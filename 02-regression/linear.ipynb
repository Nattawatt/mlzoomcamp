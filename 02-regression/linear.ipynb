{
 "cells": [
  {
   "cell_type": "markdown",
   "metadata": {},
   "source": [
    "# Why shouldn't do like this??\n",
    "${X}{w} = {y}$\n",
    "\n",
    "to find ${w}$ of linear Why don't do like this?\n",
    "\n",
    "${X^{-1}X}{w} = X^{-1}{y}$\n",
    "\n",
    "but do like this\n",
    "\n",
    "$({X} ^{T} {X})^{-1} {(X^{T} X)}{w} = ({X} ^{T} {X})^{-1} {X} ^ {T}{y}$"
   ]
  },
  {
   "cell_type": "code",
   "execution_count": 43,
   "metadata": {},
   "outputs": [],
   "source": [
    "import numpy as np"
   ]
  },
  {
   "cell_type": "code",
   "execution_count": 44,
   "metadata": {},
   "outputs": [],
   "source": [
    "X = [\n",
    "    [148, 24, 1385],\n",
    "     [132, 24, 2031],\n",
    "     [453, 11, 86],\n",
    "     [158, 24, 185],\n",
    "     [172, 25,201],\n",
    "     [413, 11, 86],\n",
    "     [38, 54, 185],\n",
    "     [142, 25, 431],\n",
    "     [453, 31, 86]\n",
    "]\n",
    "\n",
    "X = np.array(X)\n",
    "y = [10000, 20000, 15000, 25000, 10000, 20000, 15000, 25000, 12000]"
   ]
  },
  {
   "cell_type": "markdown",
   "metadata": {},
   "source": [
    "AS ${X}{w} = {y}$ \n",
    "\n",
    "I inverse ${X}$  to eliminate ${X}$ in order to find ${w}$\n",
    "\n",
    "${X}^{-1}$\n",
    "\n",
    "but look at the error"
   ]
  },
  {
   "cell_type": "code",
   "execution_count": 45,
   "metadata": {},
   "outputs": [
    {
     "name": "stdout",
     "output_type": "stream",
     "text": [
      "Last 2 dimensions of the array must be square\n"
     ]
    }
   ],
   "source": [
    "try :\n",
    "    np.linalg.inv(X)\n",
    "except Exception as e: \n",
    "    print(e)"
   ]
  },
  {
   "cell_type": "markdown",
   "metadata": {},
   "source": [
    "Yes!! I just knew that to inverse Matrix it must be sqaure.\n",
    "\n",
    "So the solution is\n",
    "\n",
    "add ${X^{T}}$ to ${X}$ it will be sqaure."
   ]
  },
  {
   "cell_type": "code",
   "execution_count": 46,
   "metadata": {},
   "outputs": [
    {
     "data": {
      "text/plain": [
       "array([[ 696471,   43983,  718540],\n",
       "       [  43983,    7097,  116772],\n",
       "       [ 718540,  116772, 6359986]])"
      ]
     },
     "execution_count": 46,
     "metadata": {},
     "output_type": "execute_result"
    }
   ],
   "source": [
    "XTX = X.T.dot(X)\n",
    "XTX"
   ]
  },
  {
   "cell_type": "markdown",
   "metadata": {},
   "source": [
    "My equation will be like this\n",
    "\n",
    "${(X^{T} X)}{w} = {X} ^ {T}{y}$\n",
    "\n",
    "So I can eliminate ${(X^{T} X)}$ because ${(X^{T} X)}$ is sqaure now\n",
    "\n",
    "$({X} ^{T} {X})^{-1} {(X^{T} X)}{w} = ({X} ^{T} {X})^{-1} {X} ^ {T}{y}$\n",
    "\n",
    "$I {w} = ({X} ^{T} {X})^{-1} {X} ^ {T}{y}$\n",
    "\n",
    "so the final ${W}$ is"
   ]
  },
  {
   "cell_type": "code",
   "execution_count": 47,
   "metadata": {},
   "outputs": [
    {
     "data": {
      "text/plain": [
       "array([ 26.20010989, 304.94155925,   3.81487275])"
      ]
     },
     "execution_count": 47,
     "metadata": {},
     "output_type": "execute_result"
    }
   ],
   "source": [
    "np.linalg.inv(X.T.dot(X)).dot(X.T).dot(y)"
   ]
  },
  {
   "cell_type": "markdown",
   "metadata": {},
   "source": [
    "But actually real equation will be like this\n",
    "\n",
    "${X}{w} + {w0} = {y}$\n",
    "\n",
    "I will merge ${w}$ with ${w0}$\n",
    "\n",
    "So I need to plus ${X}$  with an  ${ones}$ that have row equal to ${X}$\n",
    "\n",
    "${(ones + X){w} = {y}}$"
   ]
  },
  {
   "cell_type": "code",
   "execution_count": 48,
   "metadata": {},
   "outputs": [
    {
     "data": {
      "text/plain": [
       "array([1., 1., 1., 1., 1., 1., 1., 1., 1.])"
      ]
     },
     "execution_count": 48,
     "metadata": {},
     "output_type": "execute_result"
    }
   ],
   "source": [
    "ones = np.ones(X.shape[0])\n",
    "ones"
   ]
  },
  {
   "cell_type": "code",
   "execution_count": 49,
   "metadata": {},
   "outputs": [
    {
     "data": {
      "text/plain": [
       "[array([1.000e+00, 1.480e+02, 2.400e+01, 1.385e+03]),\n",
       " array([1.000e+00, 1.320e+02, 2.400e+01, 2.031e+03]),\n",
       " array([  1., 453.,  11.,  86.]),\n",
       " array([  1., 158.,  24., 185.]),\n",
       " array([  1., 172.,  25., 201.]),\n",
       " array([  1., 413.,  11.,  86.]),\n",
       " array([  1.,  38.,  54., 185.]),\n",
       " array([  1., 142.,  25., 431.]),\n",
       " array([  1., 453.,  31.,  86.])]"
      ]
     },
     "execution_count": 49,
     "metadata": {},
     "output_type": "execute_result"
    }
   ],
   "source": [
    "ones = np.ones(X.shape[0])\n",
    "X = np.column_stack([ones, X])\n",
    "list(X)"
   ]
  },
  {
   "cell_type": "markdown",
   "metadata": {},
   "source": [
    "${(ones + X){w} = {y}}$\n",
    "\n",
    "${(ones + X)}$ can be considered as 1 Matrix\n",
    "\n",
    "${(X){w} = {y}}$"
   ]
  },
  {
   "cell_type": "code",
   "execution_count": 50,
   "metadata": {},
   "outputs": [],
   "source": [
    "XTX = X.T.dot(X)\n",
    "XTX\n",
    "\n",
    "w_full = np.linalg.inv(X.T.dot(X)).dot(X.T).dot(y)"
   ]
  },
  {
   "cell_type": "code",
   "execution_count": 51,
   "metadata": {},
   "outputs": [
    {
     "name": "stdout",
     "output_type": "stream",
     "text": [
      "w0 = 30338.235198357772\n",
      "w = [ -23.24508418 -264.48613455   -2.44929629]\n"
     ]
    }
   ],
   "source": [
    "w0 = w_full[0]\n",
    "w = w_full[1:]\n",
    "\n",
    "print(\"w0 = %s\" % w0)\n",
    "print(\"w = %s\" % w)"
   ]
  },
  {
   "cell_type": "markdown",
   "metadata": {},
   "source": [
    "So, from this equation ${X}{w} + {w0} = {y}$\n",
    "\n",
    "The final equation after training will be like this\n",
    "\n",
    "${X}{w} + {w0} = {y}$\n",
    "\n",
    "${(-23.2)x_{i1}} + {(-264.5)x_{i2}} + {(-2.45)x_{i3}} + {30338.2} = y_{i}$"
   ]
  }
 ],
 "metadata": {
  "kernelspec": {
   "display_name": "Python 3.9.13 ('ml-zoomcamp')",
   "language": "python",
   "name": "python3"
  },
  "language_info": {
   "codemirror_mode": {
    "name": "ipython",
    "version": 3
   },
   "file_extension": ".py",
   "mimetype": "text/x-python",
   "name": "python",
   "nbconvert_exporter": "python",
   "pygments_lexer": "ipython3",
   "version": "3.9.13"
  },
  "orig_nbformat": 4,
  "vscode": {
   "interpreter": {
    "hash": "c41dd8f790ff80520eac0c62cc215288207835684d937ef95086706995efcfe4"
   }
  }
 },
 "nbformat": 4,
 "nbformat_minor": 2
}
