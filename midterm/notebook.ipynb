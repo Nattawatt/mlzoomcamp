{
 "cells": [
  {
   "cell_type": "code",
   "execution_count": 205,
   "metadata": {},
   "outputs": [],
   "source": [
    "import pandas as pd\n",
    "import numpy as np"
   ]
  },
  {
   "cell_type": "markdown",
   "metadata": {},
   "source": [
    "This is datasets from :\n",
    "\n",
    "https://www.kaggle.com/datasets/kartik2112/fraud-detection"
   ]
  },
  {
   "cell_type": "code",
   "execution_count": 206,
   "metadata": {},
   "outputs": [],
   "source": [
    "df_raw = pd.read_csv(\"fraudTrain.csv\", parse_dates= ['trans_date_trans_time','dob'], index_col= 0)"
   ]
  },
  {
   "cell_type": "markdown",
   "metadata": {},
   "source": [
    "# Prepare Data"
   ]
  },
  {
   "cell_type": "code",
   "execution_count": 207,
   "metadata": {},
   "outputs": [
    {
     "data": {
      "text/html": [
       "<div>\n",
       "<style scoped>\n",
       "    .dataframe tbody tr th:only-of-type {\n",
       "        vertical-align: middle;\n",
       "    }\n",
       "\n",
       "    .dataframe tbody tr th {\n",
       "        vertical-align: top;\n",
       "    }\n",
       "\n",
       "    .dataframe thead th {\n",
       "        text-align: right;\n",
       "    }\n",
       "</style>\n",
       "<table border=\"1\" class=\"dataframe\">\n",
       "  <thead>\n",
       "    <tr style=\"text-align: right;\">\n",
       "      <th></th>\n",
       "      <th>0</th>\n",
       "      <th>1</th>\n",
       "      <th>2</th>\n",
       "      <th>3</th>\n",
       "      <th>4</th>\n",
       "    </tr>\n",
       "  </thead>\n",
       "  <tbody>\n",
       "    <tr>\n",
       "      <th>trans_date_trans_time</th>\n",
       "      <td>2019-01-01 00:00:18</td>\n",
       "      <td>2019-01-01 00:00:44</td>\n",
       "      <td>2019-01-01 00:00:51</td>\n",
       "      <td>2019-01-01 00:01:16</td>\n",
       "      <td>2019-01-01 00:03:06</td>\n",
       "    </tr>\n",
       "    <tr>\n",
       "      <th>cc_num</th>\n",
       "      <td>2703186189652095</td>\n",
       "      <td>630423337322</td>\n",
       "      <td>38859492057661</td>\n",
       "      <td>3534093764340240</td>\n",
       "      <td>375534208663984</td>\n",
       "    </tr>\n",
       "    <tr>\n",
       "      <th>merchant</th>\n",
       "      <td>fraud_Rippin, Kub and Mann</td>\n",
       "      <td>fraud_Heller, Gutmann and Zieme</td>\n",
       "      <td>fraud_Lind-Buckridge</td>\n",
       "      <td>fraud_Kutch, Hermiston and Farrell</td>\n",
       "      <td>fraud_Keeling-Crist</td>\n",
       "    </tr>\n",
       "    <tr>\n",
       "      <th>category</th>\n",
       "      <td>misc_net</td>\n",
       "      <td>grocery_pos</td>\n",
       "      <td>entertainment</td>\n",
       "      <td>gas_transport</td>\n",
       "      <td>misc_pos</td>\n",
       "    </tr>\n",
       "    <tr>\n",
       "      <th>amt</th>\n",
       "      <td>4.97</td>\n",
       "      <td>107.23</td>\n",
       "      <td>220.11</td>\n",
       "      <td>45.0</td>\n",
       "      <td>41.96</td>\n",
       "    </tr>\n",
       "    <tr>\n",
       "      <th>first</th>\n",
       "      <td>Jennifer</td>\n",
       "      <td>Stephanie</td>\n",
       "      <td>Edward</td>\n",
       "      <td>Jeremy</td>\n",
       "      <td>Tyler</td>\n",
       "    </tr>\n",
       "    <tr>\n",
       "      <th>last</th>\n",
       "      <td>Banks</td>\n",
       "      <td>Gill</td>\n",
       "      <td>Sanchez</td>\n",
       "      <td>White</td>\n",
       "      <td>Garcia</td>\n",
       "    </tr>\n",
       "    <tr>\n",
       "      <th>gender</th>\n",
       "      <td>F</td>\n",
       "      <td>F</td>\n",
       "      <td>M</td>\n",
       "      <td>M</td>\n",
       "      <td>M</td>\n",
       "    </tr>\n",
       "    <tr>\n",
       "      <th>street</th>\n",
       "      <td>561 Perry Cove</td>\n",
       "      <td>43039 Riley Greens Suite 393</td>\n",
       "      <td>594 White Dale Suite 530</td>\n",
       "      <td>9443 Cynthia Court Apt. 038</td>\n",
       "      <td>408 Bradley Rest</td>\n",
       "    </tr>\n",
       "    <tr>\n",
       "      <th>city</th>\n",
       "      <td>Moravian Falls</td>\n",
       "      <td>Orient</td>\n",
       "      <td>Malad City</td>\n",
       "      <td>Boulder</td>\n",
       "      <td>Doe Hill</td>\n",
       "    </tr>\n",
       "    <tr>\n",
       "      <th>state</th>\n",
       "      <td>NC</td>\n",
       "      <td>WA</td>\n",
       "      <td>ID</td>\n",
       "      <td>MT</td>\n",
       "      <td>VA</td>\n",
       "    </tr>\n",
       "    <tr>\n",
       "      <th>zip</th>\n",
       "      <td>28654</td>\n",
       "      <td>99160</td>\n",
       "      <td>83252</td>\n",
       "      <td>59632</td>\n",
       "      <td>24433</td>\n",
       "    </tr>\n",
       "    <tr>\n",
       "      <th>lat</th>\n",
       "      <td>36.0788</td>\n",
       "      <td>48.8878</td>\n",
       "      <td>42.1808</td>\n",
       "      <td>46.2306</td>\n",
       "      <td>38.4207</td>\n",
       "    </tr>\n",
       "    <tr>\n",
       "      <th>long</th>\n",
       "      <td>-81.1781</td>\n",
       "      <td>-118.2105</td>\n",
       "      <td>-112.262</td>\n",
       "      <td>-112.1138</td>\n",
       "      <td>-79.4629</td>\n",
       "    </tr>\n",
       "    <tr>\n",
       "      <th>city_pop</th>\n",
       "      <td>3495</td>\n",
       "      <td>149</td>\n",
       "      <td>4154</td>\n",
       "      <td>1939</td>\n",
       "      <td>99</td>\n",
       "    </tr>\n",
       "    <tr>\n",
       "      <th>job</th>\n",
       "      <td>Psychologist, counselling</td>\n",
       "      <td>Special educational needs teacher</td>\n",
       "      <td>Nature conservation officer</td>\n",
       "      <td>Patent attorney</td>\n",
       "      <td>Dance movement psychotherapist</td>\n",
       "    </tr>\n",
       "    <tr>\n",
       "      <th>dob</th>\n",
       "      <td>1988-03-09 00:00:00</td>\n",
       "      <td>1978-06-21 00:00:00</td>\n",
       "      <td>1962-01-19 00:00:00</td>\n",
       "      <td>1967-01-12 00:00:00</td>\n",
       "      <td>1986-03-28 00:00:00</td>\n",
       "    </tr>\n",
       "    <tr>\n",
       "      <th>trans_num</th>\n",
       "      <td>0b242abb623afc578575680df30655b9</td>\n",
       "      <td>1f76529f8574734946361c461b024d99</td>\n",
       "      <td>a1a22d70485983eac12b5b88dad1cf95</td>\n",
       "      <td>6b849c168bdad6f867558c3793159a81</td>\n",
       "      <td>a41d7549acf90789359a9aa5346dcb46</td>\n",
       "    </tr>\n",
       "    <tr>\n",
       "      <th>unix_time</th>\n",
       "      <td>1325376018</td>\n",
       "      <td>1325376044</td>\n",
       "      <td>1325376051</td>\n",
       "      <td>1325376076</td>\n",
       "      <td>1325376186</td>\n",
       "    </tr>\n",
       "    <tr>\n",
       "      <th>merch_lat</th>\n",
       "      <td>36.011293</td>\n",
       "      <td>49.159047</td>\n",
       "      <td>43.150704</td>\n",
       "      <td>47.034331</td>\n",
       "      <td>38.674999</td>\n",
       "    </tr>\n",
       "    <tr>\n",
       "      <th>merch_long</th>\n",
       "      <td>-82.048315</td>\n",
       "      <td>-118.186462</td>\n",
       "      <td>-112.154481</td>\n",
       "      <td>-112.561071</td>\n",
       "      <td>-78.632459</td>\n",
       "    </tr>\n",
       "    <tr>\n",
       "      <th>is_fraud</th>\n",
       "      <td>0</td>\n",
       "      <td>0</td>\n",
       "      <td>0</td>\n",
       "      <td>0</td>\n",
       "      <td>0</td>\n",
       "    </tr>\n",
       "  </tbody>\n",
       "</table>\n",
       "</div>"
      ],
      "text/plain": [
       "                                                      0  \\\n",
       "trans_date_trans_time               2019-01-01 00:00:18   \n",
       "cc_num                                 2703186189652095   \n",
       "merchant                     fraud_Rippin, Kub and Mann   \n",
       "category                                       misc_net   \n",
       "amt                                                4.97   \n",
       "first                                          Jennifer   \n",
       "last                                              Banks   \n",
       "gender                                                F   \n",
       "street                                   561 Perry Cove   \n",
       "city                                     Moravian Falls   \n",
       "state                                                NC   \n",
       "zip                                               28654   \n",
       "lat                                             36.0788   \n",
       "long                                           -81.1781   \n",
       "city_pop                                           3495   \n",
       "job                           Psychologist, counselling   \n",
       "dob                                 1988-03-09 00:00:00   \n",
       "trans_num              0b242abb623afc578575680df30655b9   \n",
       "unix_time                                    1325376018   \n",
       "merch_lat                                     36.011293   \n",
       "merch_long                                   -82.048315   \n",
       "is_fraud                                              0   \n",
       "\n",
       "                                                       1  \\\n",
       "trans_date_trans_time                2019-01-01 00:00:44   \n",
       "cc_num                                      630423337322   \n",
       "merchant                 fraud_Heller, Gutmann and Zieme   \n",
       "category                                     grocery_pos   \n",
       "amt                                               107.23   \n",
       "first                                          Stephanie   \n",
       "last                                                Gill   \n",
       "gender                                                 F   \n",
       "street                      43039 Riley Greens Suite 393   \n",
       "city                                              Orient   \n",
       "state                                                 WA   \n",
       "zip                                                99160   \n",
       "lat                                              48.8878   \n",
       "long                                           -118.2105   \n",
       "city_pop                                             149   \n",
       "job                    Special educational needs teacher   \n",
       "dob                                  1978-06-21 00:00:00   \n",
       "trans_num               1f76529f8574734946361c461b024d99   \n",
       "unix_time                                     1325376044   \n",
       "merch_lat                                      49.159047   \n",
       "merch_long                                   -118.186462   \n",
       "is_fraud                                               0   \n",
       "\n",
       "                                                      2  \\\n",
       "trans_date_trans_time               2019-01-01 00:00:51   \n",
       "cc_num                                   38859492057661   \n",
       "merchant                           fraud_Lind-Buckridge   \n",
       "category                                  entertainment   \n",
       "amt                                              220.11   \n",
       "first                                            Edward   \n",
       "last                                            Sanchez   \n",
       "gender                                                M   \n",
       "street                         594 White Dale Suite 530   \n",
       "city                                         Malad City   \n",
       "state                                                ID   \n",
       "zip                                               83252   \n",
       "lat                                             42.1808   \n",
       "long                                           -112.262   \n",
       "city_pop                                           4154   \n",
       "job                         Nature conservation officer   \n",
       "dob                                 1962-01-19 00:00:00   \n",
       "trans_num              a1a22d70485983eac12b5b88dad1cf95   \n",
       "unix_time                                    1325376051   \n",
       "merch_lat                                     43.150704   \n",
       "merch_long                                  -112.154481   \n",
       "is_fraud                                              0   \n",
       "\n",
       "                                                        3  \\\n",
       "trans_date_trans_time                 2019-01-01 00:01:16   \n",
       "cc_num                                   3534093764340240   \n",
       "merchant               fraud_Kutch, Hermiston and Farrell   \n",
       "category                                    gas_transport   \n",
       "amt                                                  45.0   \n",
       "first                                              Jeremy   \n",
       "last                                                White   \n",
       "gender                                                  M   \n",
       "street                        9443 Cynthia Court Apt. 038   \n",
       "city                                              Boulder   \n",
       "state                                                  MT   \n",
       "zip                                                 59632   \n",
       "lat                                               46.2306   \n",
       "long                                            -112.1138   \n",
       "city_pop                                             1939   \n",
       "job                                       Patent attorney   \n",
       "dob                                   1967-01-12 00:00:00   \n",
       "trans_num                6b849c168bdad6f867558c3793159a81   \n",
       "unix_time                                      1325376076   \n",
       "merch_lat                                       47.034331   \n",
       "merch_long                                    -112.561071   \n",
       "is_fraud                                                0   \n",
       "\n",
       "                                                      4  \n",
       "trans_date_trans_time               2019-01-01 00:03:06  \n",
       "cc_num                                  375534208663984  \n",
       "merchant                            fraud_Keeling-Crist  \n",
       "category                                       misc_pos  \n",
       "amt                                               41.96  \n",
       "first                                             Tyler  \n",
       "last                                             Garcia  \n",
       "gender                                                M  \n",
       "street                                 408 Bradley Rest  \n",
       "city                                           Doe Hill  \n",
       "state                                                VA  \n",
       "zip                                               24433  \n",
       "lat                                             38.4207  \n",
       "long                                           -79.4629  \n",
       "city_pop                                             99  \n",
       "job                      Dance movement psychotherapist  \n",
       "dob                                 1986-03-28 00:00:00  \n",
       "trans_num              a41d7549acf90789359a9aa5346dcb46  \n",
       "unix_time                                    1325376186  \n",
       "merch_lat                                     38.674999  \n",
       "merch_long                                   -78.632459  \n",
       "is_fraud                                              0  "
      ]
     },
     "execution_count": 207,
     "metadata": {},
     "output_type": "execute_result"
    }
   ],
   "source": [
    "df_raw.head().T"
   ]
  },
  {
   "cell_type": "code",
   "execution_count": 208,
   "metadata": {},
   "outputs": [
    {
     "data": {
      "text/plain": [
       "Index(['trans_date_trans_time', 'cc_num', 'merchant', 'category', 'amt',\n",
       "       'first', 'last', 'gender', 'street', 'city', 'state', 'zip', 'lat',\n",
       "       'long', 'city_pop', 'job', 'dob', 'trans_num', 'unix_time', 'merch_lat',\n",
       "       'merch_long', 'is_fraud'],\n",
       "      dtype='object')"
      ]
     },
     "execution_count": 208,
     "metadata": {},
     "output_type": "execute_result"
    }
   ],
   "source": [
    "df_raw.columns"
   ]
  },
  {
   "cell_type": "markdown",
   "metadata": {},
   "source": [
    "Select used column :\n",
    "\n",
    "['trans_date_trans_time', 'amt','gender', 'city_pop', 'dob', 'is_fraud']\n",
    "\n",
    "Drop name of customer and trans_num\n",
    "\n",
    "and I will feature Engineering 3 column age of user, hour_of_trans, day_of_trans"
   ]
  },
  {
   "cell_type": "code",
   "execution_count": 339,
   "metadata": {},
   "outputs": [],
   "source": [
    "def preprocessing(df):\n",
    "    # df_new = df[['trans_date_trans_time', 'amt','gender', 'city_pop', 'job', 'dob', 'is_fraud']].copy()\n",
    "    df_new = df.copy()\n",
    "    df_new.columns = df_new.columns.str.lower().str.replace(' ', '_')\n",
    "\n",
    "    categorical_columns = list(df_new.dtypes[df_new.dtypes == 'object'].index)\n",
    "\n",
    "    for c in categorical_columns:\n",
    "        df_new[c] = df_new[c].str.lower().str.replace(' ', '_')\n",
    "\n",
    "    max_date = max(df_new['trans_date_trans_time'])\n",
    "\n",
    "    df_new['hour_of_trans'] = df_new['trans_date_trans_time'].dt.hour\n",
    "    df_new['day_of_trans'] = df_new['trans_date_trans_time'].dt.weekday\n",
    "    df_new['age'] = round((max_date - df_new['dob']) /  pd.Timedelta('365 days')).astype(int)\n",
    "    \n",
    "    df_new = df_new[['category', 'amt','gender', 'city_pop', 'hour_of_trans', 'day_of_trans', 'age', 'is_fraud']]\n",
    "    return df_new"
   ]
  },
  {
   "cell_type": "code",
   "execution_count": 340,
   "metadata": {},
   "outputs": [],
   "source": [
    "df = preprocessing(df_raw)"
   ]
  },
  {
   "cell_type": "code",
   "execution_count": 341,
   "metadata": {},
   "outputs": [
    {
     "data": {
      "text/html": [
       "<div>\n",
       "<style scoped>\n",
       "    .dataframe tbody tr th:only-of-type {\n",
       "        vertical-align: middle;\n",
       "    }\n",
       "\n",
       "    .dataframe tbody tr th {\n",
       "        vertical-align: top;\n",
       "    }\n",
       "\n",
       "    .dataframe thead th {\n",
       "        text-align: right;\n",
       "    }\n",
       "</style>\n",
       "<table border=\"1\" class=\"dataframe\">\n",
       "  <thead>\n",
       "    <tr style=\"text-align: right;\">\n",
       "      <th></th>\n",
       "      <th>0</th>\n",
       "      <th>1</th>\n",
       "      <th>2</th>\n",
       "      <th>3</th>\n",
       "      <th>4</th>\n",
       "    </tr>\n",
       "  </thead>\n",
       "  <tbody>\n",
       "    <tr>\n",
       "      <th>category</th>\n",
       "      <td>misc_net</td>\n",
       "      <td>grocery_pos</td>\n",
       "      <td>entertainment</td>\n",
       "      <td>gas_transport</td>\n",
       "      <td>misc_pos</td>\n",
       "    </tr>\n",
       "    <tr>\n",
       "      <th>amt</th>\n",
       "      <td>4.97</td>\n",
       "      <td>107.23</td>\n",
       "      <td>220.11</td>\n",
       "      <td>45.0</td>\n",
       "      <td>41.96</td>\n",
       "    </tr>\n",
       "    <tr>\n",
       "      <th>gender</th>\n",
       "      <td>f</td>\n",
       "      <td>f</td>\n",
       "      <td>m</td>\n",
       "      <td>m</td>\n",
       "      <td>m</td>\n",
       "    </tr>\n",
       "    <tr>\n",
       "      <th>city_pop</th>\n",
       "      <td>3495</td>\n",
       "      <td>149</td>\n",
       "      <td>4154</td>\n",
       "      <td>1939</td>\n",
       "      <td>99</td>\n",
       "    </tr>\n",
       "    <tr>\n",
       "      <th>hour_of_trans</th>\n",
       "      <td>0</td>\n",
       "      <td>0</td>\n",
       "      <td>0</td>\n",
       "      <td>0</td>\n",
       "      <td>0</td>\n",
       "    </tr>\n",
       "    <tr>\n",
       "      <th>day_of_trans</th>\n",
       "      <td>1</td>\n",
       "      <td>1</td>\n",
       "      <td>1</td>\n",
       "      <td>1</td>\n",
       "      <td>1</td>\n",
       "    </tr>\n",
       "    <tr>\n",
       "      <th>age</th>\n",
       "      <td>32</td>\n",
       "      <td>42</td>\n",
       "      <td>58</td>\n",
       "      <td>53</td>\n",
       "      <td>34</td>\n",
       "    </tr>\n",
       "    <tr>\n",
       "      <th>is_fraud</th>\n",
       "      <td>0</td>\n",
       "      <td>0</td>\n",
       "      <td>0</td>\n",
       "      <td>0</td>\n",
       "      <td>0</td>\n",
       "    </tr>\n",
       "  </tbody>\n",
       "</table>\n",
       "</div>"
      ],
      "text/plain": [
       "                      0            1              2              3         4\n",
       "category       misc_net  grocery_pos  entertainment  gas_transport  misc_pos\n",
       "amt                4.97       107.23         220.11           45.0     41.96\n",
       "gender                f            f              m              m         m\n",
       "city_pop           3495          149           4154           1939        99\n",
       "hour_of_trans         0            0              0              0         0\n",
       "day_of_trans          1            1              1              1         1\n",
       "age                  32           42             58             53        34\n",
       "is_fraud              0            0              0              0         0"
      ]
     },
     "execution_count": 341,
     "metadata": {},
     "output_type": "execute_result"
    }
   ],
   "source": [
    "df.head().T"
   ]
  },
  {
   "cell_type": "code",
   "execution_count": 342,
   "metadata": {},
   "outputs": [
    {
     "data": {
      "text/html": [
       "<div>\n",
       "<style scoped>\n",
       "    .dataframe tbody tr th:only-of-type {\n",
       "        vertical-align: middle;\n",
       "    }\n",
       "\n",
       "    .dataframe tbody tr th {\n",
       "        vertical-align: top;\n",
       "    }\n",
       "\n",
       "    .dataframe thead th {\n",
       "        text-align: right;\n",
       "    }\n",
       "</style>\n",
       "<table border=\"1\" class=\"dataframe\">\n",
       "  <thead>\n",
       "    <tr style=\"text-align: right;\">\n",
       "      <th></th>\n",
       "      <th>1296670</th>\n",
       "      <th>1296671</th>\n",
       "      <th>1296672</th>\n",
       "      <th>1296673</th>\n",
       "      <th>1296674</th>\n",
       "    </tr>\n",
       "  </thead>\n",
       "  <tbody>\n",
       "    <tr>\n",
       "      <th>category</th>\n",
       "      <td>entertainment</td>\n",
       "      <td>food_dining</td>\n",
       "      <td>food_dining</td>\n",
       "      <td>food_dining</td>\n",
       "      <td>food_dining</td>\n",
       "    </tr>\n",
       "    <tr>\n",
       "      <th>amt</th>\n",
       "      <td>15.56</td>\n",
       "      <td>51.7</td>\n",
       "      <td>105.93</td>\n",
       "      <td>74.9</td>\n",
       "      <td>4.3</td>\n",
       "    </tr>\n",
       "    <tr>\n",
       "      <th>gender</th>\n",
       "      <td>m</td>\n",
       "      <td>m</td>\n",
       "      <td>m</td>\n",
       "      <td>m</td>\n",
       "      <td>m</td>\n",
       "    </tr>\n",
       "    <tr>\n",
       "      <th>city_pop</th>\n",
       "      <td>258</td>\n",
       "      <td>100</td>\n",
       "      <td>899</td>\n",
       "      <td>1126</td>\n",
       "      <td>218</td>\n",
       "    </tr>\n",
       "    <tr>\n",
       "      <th>hour_of_trans</th>\n",
       "      <td>12</td>\n",
       "      <td>12</td>\n",
       "      <td>12</td>\n",
       "      <td>12</td>\n",
       "      <td>12</td>\n",
       "    </tr>\n",
       "    <tr>\n",
       "      <th>day_of_trans</th>\n",
       "      <td>6</td>\n",
       "      <td>6</td>\n",
       "      <td>6</td>\n",
       "      <td>6</td>\n",
       "      <td>6</td>\n",
       "    </tr>\n",
       "    <tr>\n",
       "      <th>age</th>\n",
       "      <td>59</td>\n",
       "      <td>41</td>\n",
       "      <td>53</td>\n",
       "      <td>40</td>\n",
       "      <td>25</td>\n",
       "    </tr>\n",
       "    <tr>\n",
       "      <th>is_fraud</th>\n",
       "      <td>0</td>\n",
       "      <td>0</td>\n",
       "      <td>0</td>\n",
       "      <td>0</td>\n",
       "      <td>0</td>\n",
       "    </tr>\n",
       "  </tbody>\n",
       "</table>\n",
       "</div>"
      ],
      "text/plain": [
       "                     1296670      1296671      1296672      1296673  \\\n",
       "category       entertainment  food_dining  food_dining  food_dining   \n",
       "amt                    15.56         51.7       105.93         74.9   \n",
       "gender                     m            m            m            m   \n",
       "city_pop                 258          100          899         1126   \n",
       "hour_of_trans             12           12           12           12   \n",
       "day_of_trans               6            6            6            6   \n",
       "age                       59           41           53           40   \n",
       "is_fraud                   0            0            0            0   \n",
       "\n",
       "                   1296674  \n",
       "category       food_dining  \n",
       "amt                    4.3  \n",
       "gender                   m  \n",
       "city_pop               218  \n",
       "hour_of_trans           12  \n",
       "day_of_trans             6  \n",
       "age                     25  \n",
       "is_fraud                 0  "
      ]
     },
     "execution_count": 342,
     "metadata": {},
     "output_type": "execute_result"
    }
   ],
   "source": [
    "df.tail().T"
   ]
  },
  {
   "cell_type": "code",
   "execution_count": 343,
   "metadata": {},
   "outputs": [
    {
     "data": {
      "text/plain": [
       "category          object\n",
       "amt              float64\n",
       "gender            object\n",
       "city_pop           int64\n",
       "hour_of_trans      int64\n",
       "day_of_trans       int64\n",
       "age                int32\n",
       "is_fraud           int64\n",
       "dtype: object"
      ]
     },
     "execution_count": 343,
     "metadata": {},
     "output_type": "execute_result"
    }
   ],
   "source": [
    "df.dtypes"
   ]
  },
  {
   "cell_type": "code",
   "execution_count": 344,
   "metadata": {},
   "outputs": [
    {
     "name": "stdout",
     "output_type": "stream",
     "text": [
      "<class 'pandas.core.frame.DataFrame'>\n",
      "Int64Index: 1296675 entries, 0 to 1296674\n",
      "Data columns (total 8 columns):\n",
      " #   Column         Non-Null Count    Dtype  \n",
      "---  ------         --------------    -----  \n",
      " 0   category       1296675 non-null  object \n",
      " 1   amt            1296675 non-null  float64\n",
      " 2   gender         1296675 non-null  object \n",
      " 3   city_pop       1296675 non-null  int64  \n",
      " 4   hour_of_trans  1296675 non-null  int64  \n",
      " 5   day_of_trans   1296675 non-null  int64  \n",
      " 6   age            1296675 non-null  int32  \n",
      " 7   is_fraud       1296675 non-null  int64  \n",
      "dtypes: float64(1), int32(1), int64(4), object(2)\n",
      "memory usage: 84.1+ MB\n"
     ]
    }
   ],
   "source": [
    "df.info()"
   ]
  },
  {
   "cell_type": "code",
   "execution_count": 345,
   "metadata": {},
   "outputs": [
    {
     "data": {
      "text/html": [
       "<div>\n",
       "<style scoped>\n",
       "    .dataframe tbody tr th:only-of-type {\n",
       "        vertical-align: middle;\n",
       "    }\n",
       "\n",
       "    .dataframe tbody tr th {\n",
       "        vertical-align: top;\n",
       "    }\n",
       "\n",
       "    .dataframe thead th {\n",
       "        text-align: right;\n",
       "    }\n",
       "</style>\n",
       "<table border=\"1\" class=\"dataframe\">\n",
       "  <thead>\n",
       "    <tr style=\"text-align: right;\">\n",
       "      <th></th>\n",
       "      <th>amt</th>\n",
       "      <th>city_pop</th>\n",
       "      <th>hour_of_trans</th>\n",
       "      <th>day_of_trans</th>\n",
       "      <th>age</th>\n",
       "      <th>is_fraud</th>\n",
       "    </tr>\n",
       "  </thead>\n",
       "  <tbody>\n",
       "    <tr>\n",
       "      <th>count</th>\n",
       "      <td>1296675.0</td>\n",
       "      <td>1296675.0</td>\n",
       "      <td>1296675.0</td>\n",
       "      <td>1296675.0</td>\n",
       "      <td>1296675.0</td>\n",
       "      <td>1296675.0</td>\n",
       "    </tr>\n",
       "    <tr>\n",
       "      <th>mean</th>\n",
       "      <td>70.0</td>\n",
       "      <td>88824.0</td>\n",
       "      <td>13.0</td>\n",
       "      <td>3.0</td>\n",
       "      <td>47.0</td>\n",
       "      <td>0.0</td>\n",
       "    </tr>\n",
       "    <tr>\n",
       "      <th>std</th>\n",
       "      <td>160.0</td>\n",
       "      <td>301956.0</td>\n",
       "      <td>7.0</td>\n",
       "      <td>2.0</td>\n",
       "      <td>17.0</td>\n",
       "      <td>0.0</td>\n",
       "    </tr>\n",
       "    <tr>\n",
       "      <th>min</th>\n",
       "      <td>1.0</td>\n",
       "      <td>23.0</td>\n",
       "      <td>0.0</td>\n",
       "      <td>0.0</td>\n",
       "      <td>15.0</td>\n",
       "      <td>0.0</td>\n",
       "    </tr>\n",
       "    <tr>\n",
       "      <th>25%</th>\n",
       "      <td>10.0</td>\n",
       "      <td>743.0</td>\n",
       "      <td>7.0</td>\n",
       "      <td>1.0</td>\n",
       "      <td>33.0</td>\n",
       "      <td>0.0</td>\n",
       "    </tr>\n",
       "    <tr>\n",
       "      <th>50%</th>\n",
       "      <td>48.0</td>\n",
       "      <td>2456.0</td>\n",
       "      <td>14.0</td>\n",
       "      <td>3.0</td>\n",
       "      <td>45.0</td>\n",
       "      <td>0.0</td>\n",
       "    </tr>\n",
       "    <tr>\n",
       "      <th>75%</th>\n",
       "      <td>83.0</td>\n",
       "      <td>20328.0</td>\n",
       "      <td>19.0</td>\n",
       "      <td>5.0</td>\n",
       "      <td>58.0</td>\n",
       "      <td>0.0</td>\n",
       "    </tr>\n",
       "    <tr>\n",
       "      <th>max</th>\n",
       "      <td>28949.0</td>\n",
       "      <td>2906700.0</td>\n",
       "      <td>23.0</td>\n",
       "      <td>6.0</td>\n",
       "      <td>96.0</td>\n",
       "      <td>1.0</td>\n",
       "    </tr>\n",
       "  </tbody>\n",
       "</table>\n",
       "</div>"
      ],
      "text/plain": [
       "             amt   city_pop  hour_of_trans  day_of_trans        age   is_fraud\n",
       "count  1296675.0  1296675.0      1296675.0     1296675.0  1296675.0  1296675.0\n",
       "mean        70.0    88824.0           13.0           3.0       47.0        0.0\n",
       "std        160.0   301956.0            7.0           2.0       17.0        0.0\n",
       "min          1.0       23.0            0.0           0.0       15.0        0.0\n",
       "25%         10.0      743.0            7.0           1.0       33.0        0.0\n",
       "50%         48.0     2456.0           14.0           3.0       45.0        0.0\n",
       "75%         83.0    20328.0           19.0           5.0       58.0        0.0\n",
       "max      28949.0  2906700.0           23.0           6.0       96.0        1.0"
      ]
     },
     "execution_count": 345,
     "metadata": {},
     "output_type": "execute_result"
    }
   ],
   "source": [
    "df.describe().round()"
   ]
  },
  {
   "cell_type": "markdown",
   "metadata": {},
   "source": [
    "Check target values\n",
    "\n",
    "It have only 2 unique values \n",
    "\n",
    "- 1 : stand for fraud\n",
    "\n",
    "- 0 : non-fraud"
   ]
  },
  {
   "cell_type": "markdown",
   "metadata": {},
   "source": [
    "# Setting up the validation framework "
   ]
  },
  {
   "cell_type": "code",
   "execution_count": 346,
   "metadata": {},
   "outputs": [],
   "source": [
    "from sklearn.model_selection import train_test_split"
   ]
  },
  {
   "cell_type": "code",
   "execution_count": 501,
   "metadata": {},
   "outputs": [],
   "source": [
    "df_full_train, df_test = train_test_split(df, test_size=0.2, random_state=1)\n",
    "df_train, df_val = train_test_split(df_full_train, test_size=0.25, random_state=1)"
   ]
  },
  {
   "cell_type": "code",
   "execution_count": 495,
   "metadata": {},
   "outputs": [
    {
     "data": {
      "text/plain": [
       "(778005, 259335, 259335)"
      ]
     },
     "execution_count": 495,
     "metadata": {},
     "output_type": "execute_result"
    }
   ],
   "source": [
    "len(df_train), len(df_val), len(df_test)"
   ]
  },
  {
   "cell_type": "code",
   "execution_count": 502,
   "metadata": {},
   "outputs": [],
   "source": [
    "df_train = df_train.reset_index(drop=True)\n",
    "df_val = df_val.reset_index(drop=True)\n",
    "df_test = df_test.reset_index(drop=True)"
   ]
  },
  {
   "cell_type": "code",
   "execution_count": 497,
   "metadata": {},
   "outputs": [],
   "source": [
    "y_train = df_train.is_fraud.values\n",
    "y_val = df_val.is_fraud.values\n",
    "y_test = df_test.is_fraud.values\n",
    "\n",
    "del df_train['is_fraud']\n",
    "del df_val['is_fraud']\n",
    "del df_test['is_fraud']"
   ]
  },
  {
   "cell_type": "code",
   "execution_count": 431,
   "metadata": {},
   "outputs": [
    {
     "data": {
      "text/plain": [
       "(778005, 259335)"
      ]
     },
     "execution_count": 431,
     "metadata": {},
     "output_type": "execute_result"
    }
   ],
   "source": [
    "len(y_train) , len(y_val)"
   ]
  },
  {
   "cell_type": "markdown",
   "metadata": {},
   "source": [
    "# EDA"
   ]
  },
  {
   "cell_type": "markdown",
   "metadata": {},
   "source": [
    "- Check missing values\n",
    "- Look at the target variable (is_fraud)\n",
    "- Look at numerical and categorical variables"
   ]
  },
  {
   "cell_type": "markdown",
   "metadata": {},
   "source": [
    "## Check missing values"
   ]
  },
  {
   "cell_type": "code",
   "execution_count": 351,
   "metadata": {},
   "outputs": [],
   "source": [
    "df_full_train = df_full_train.reset_index(drop=True)"
   ]
  },
  {
   "cell_type": "code",
   "execution_count": 352,
   "metadata": {},
   "outputs": [
    {
     "data": {
      "text/plain": [
       "category         0\n",
       "amt              0\n",
       "gender           0\n",
       "city_pop         0\n",
       "hour_of_trans    0\n",
       "day_of_trans     0\n",
       "age              0\n",
       "is_fraud         0\n",
       "dtype: int64"
      ]
     },
     "execution_count": 352,
     "metadata": {},
     "output_type": "execute_result"
    }
   ],
   "source": [
    "df_full_train.isnull().sum()"
   ]
  },
  {
   "cell_type": "markdown",
   "metadata": {},
   "source": [
    "## target variable"
   ]
  },
  {
   "cell_type": "code",
   "execution_count": 353,
   "metadata": {},
   "outputs": [
    {
     "data": {
      "text/plain": [
       "0    1031264\n",
       "1       6076\n",
       "Name: is_fraud, dtype: int64"
      ]
     },
     "execution_count": 353,
     "metadata": {},
     "output_type": "execute_result"
    }
   ],
   "source": [
    "df_full_train.is_fraud.value_counts()"
   ]
  },
  {
   "cell_type": "code",
   "execution_count": 354,
   "metadata": {},
   "outputs": [
    {
     "data": {
      "text/plain": [
       "0    0.994143\n",
       "1    0.005857\n",
       "Name: is_fraud, dtype: float64"
      ]
     },
     "execution_count": 354,
     "metadata": {},
     "output_type": "execute_result"
    }
   ],
   "source": [
    "df_full_train.is_fraud.value_counts(normalize=True)"
   ]
  },
  {
   "cell_type": "code",
   "execution_count": 355,
   "metadata": {},
   "outputs": [
    {
     "data": {
      "text/plain": [
       "0.01"
      ]
     },
     "execution_count": 355,
     "metadata": {},
     "output_type": "execute_result"
    }
   ],
   "source": [
    "global_is_fraud_rate = df_full_train.is_fraud.mean()\n",
    "round(global_is_fraud_rate,2)"
   ]
  },
  {
   "cell_type": "markdown",
   "metadata": {},
   "source": [
    "target variable is imbalanced"
   ]
  },
  {
   "cell_type": "markdown",
   "metadata": {},
   "source": [
    "## categorical variables"
   ]
  },
  {
   "cell_type": "code",
   "execution_count": 356,
   "metadata": {},
   "outputs": [],
   "source": [
    "from IPython.display import display\n",
    "import matplotlib.pyplot as plt\n",
    "import seaborn as sns"
   ]
  },
  {
   "cell_type": "code",
   "execution_count": 357,
   "metadata": {},
   "outputs": [
    {
     "data": {
      "text/plain": [
       "['category', 'gender']"
      ]
     },
     "execution_count": 357,
     "metadata": {},
     "output_type": "execute_result"
    }
   ],
   "source": [
    "list(df_full_train.dtypes[df_full_train.dtypes == 'object'].index)"
   ]
  },
  {
   "cell_type": "code",
   "execution_count": 358,
   "metadata": {},
   "outputs": [
    {
     "name": "stdout",
     "output_type": "stream",
     "text": [
      "--------------------Column : category------------------------------\n",
      "global_is_fraud_rate : 0.00585728883490466\n",
      "----------------\n",
      "diff_threshold : <  -0.02 | risk_threshold : >  1.1\n",
      "----------------\n",
      "entertainment  :  0.002376905508046954\n",
      "diff : 0.003480383326857706  :  less likely to is_fraud\n",
      "risk : 0.40580302167831256  :  less likely to is_fraud\n",
      "----------------\n",
      "food_dining  :  0.0016250836440110889\n",
      "diff : 0.004232205190893571  :  less likely to is_fraud\n",
      "risk : 0.27744639026966145  :  less likely to is_fraud\n",
      "----------------\n",
      "gas_transport  :  0.004887817470862913\n",
      "diff : 0.0009694713640417468  :  less likely to is_fraud\n",
      "risk : 0.8344846239672373  :  less likely to is_fraud\n",
      "----------------\n",
      "grocery_net  :  0.002978735140800397\n",
      "diff : 0.0028785536941042626  :  less likely to is_fraud\n",
      "risk : 0.5085518615796386  :  less likely to is_fraud\n",
      "----------------\n",
      "grocery_pos  :  0.014274313307539222\n",
      "diff : -0.008417024472634562  :  less likely to is_fraud\n",
      "risk : 2.437017143917501  :  more likely to is_fraud\n",
      "----------------\n",
      "health_fitness  :  0.0015865853481026478\n",
      "diff : 0.004270703486802012  :  less likely to is_fraud\n",
      "risk : 0.27087367429242937  :  less likely to is_fraud\n",
      "----------------\n",
      "home  :  0.0015739715872741858\n",
      "diff : 0.0042833172476304734  :  less likely to is_fraud\n",
      "risk : 0.2687201590426274  :  less likely to is_fraud\n",
      "----------------\n",
      "kids_pets  :  0.0020789790885667207\n",
      "diff : 0.003778309746337939  :  less likely to is_fraud\n",
      "risk : 0.3549388031161623  :  less likely to is_fraud\n",
      "----------------\n",
      "misc_net  :  0.014417165747828501\n",
      "diff : -0.008559876912923842  :  less likely to is_fraud\n",
      "risk : 2.461405977098818  :  more likely to is_fraud\n",
      "----------------\n",
      "misc_pos  :  0.003221598855939528\n",
      "diff : 0.0026356899789651317  :  less likely to is_fraud\n",
      "risk : 0.5500153649144685  :  less likely to is_fraud\n",
      "----------------\n",
      "personal_care  :  0.0025749063670411983\n",
      "diff : 0.0032823824678634614  :  less likely to is_fraud\n",
      "risk : 0.4396072038819152  :  less likely to is_fraud\n",
      "----------------\n",
      "shopping_net  :  0.01773585872824666\n",
      "diff : -0.011878569893342001  :  less likely to is_fraud\n",
      "risk : 3.027997974516029  :  more likely to is_fraud\n",
      "----------------\n",
      "shopping_pos  :  0.007372374460982056\n",
      "diff : -0.0015150856260773959  :  less likely to is_fraud\n",
      "risk : 1.2586667089129568  :  more likely to is_fraud\n",
      "----------------\n",
      "travel  :  0.003023384957117295\n",
      "diff : 0.0028339038777873645  :  less likely to is_fraud\n",
      "risk : 0.516174810963801  :  less likely to is_fraud\n"
     ]
    },
    {
     "data": {
      "image/png": "[encoded data removed]",
      "text/plain": [
       "<Figure size 500x200 with 2 Axes>"
      ]
     },
     "metadata": {},
     "output_type": "display_data"
    },
    {
     "name": "stdout",
     "output_type": "stream",
     "text": [
      "--------------------Column : gender------------------------------\n",
      "global_is_fraud_rate : 0.00585728883490466\n",
      "----------------\n",
      "diff_threshold : <  -0.02 | risk_threshold : >  1.1\n",
      "----------------\n",
      "f  :  0.005339816935652829\n",
      "diff : 0.0005174718992518304  :  less likely to is_fraud\n",
      "risk : 0.9116533410187798  :  less likely to is_fraud\n",
      "----------------\n",
      "m  :  0.0064835312340867975\n",
      "diff : -0.0006262423991821378  :  less likely to is_fraud\n",
      "risk : 1.1069167693165898  :  more likely to is_fraud\n"
     ]
    },
    {
     "data": {
      "image/png": "[encoded data removed]",
      "text/plain": [
       "<Figure size 500x200 with 2 Axes>"
      ]
     },
     "metadata": {},
     "output_type": "display_data"
    }
   ],
   "source": [
    "diff_threshold = -0.02\n",
    "risk_threshold = 1.1\n",
    "for c in list(df_full_train.dtypes[df_full_train.dtypes == 'object'].index):\n",
    "    print(f\"--------------------Column : {c}------------------------------\")\n",
    "    print(\"global_is_fraud_rate :\" , global_is_fraud_rate)\n",
    "    print(\"----------------\")\n",
    "    data = df_full_train[[c,'is_fraud']].copy()\n",
    "\n",
    "    df_group = df_full_train[[c,'is_fraud']].groupby(c).agg(is_fraud_rate = ('is_fraud','mean'),\n",
    "                                                        dist = (c,lambda x : len(x)/len(df_full_train)))\n",
    "\n",
    "    print(\"diff_threshold : < \", diff_threshold, \"|\" , \"risk_threshold : > \", risk_threshold)                                                    \n",
    "    for i , row in df_group.iterrows():\n",
    "        diff = \"more likely to is_fraud\" if global_is_fraud_rate - row['is_fraud_rate'] < diff_threshold else \"less likely to is_fraud\"\n",
    "        risk = \"more likely to is_fraud\" if row['is_fraud_rate']/global_is_fraud_rate > risk_threshold else \"less likely to is_fraud\"\n",
    "        print(\"----------------\")\n",
    "        print(i, \" : \", row['is_fraud_rate'])\n",
    "        print(\"diff :\" , global_is_fraud_rate - row['is_fraud_rate'] , \" : \" , diff)\n",
    "        print(\"risk :\" , row['is_fraud_rate']/global_is_fraud_rate , \" : \" , risk)\n",
    "        \n",
    "    df_group = df_group.reset_index()\n",
    "    x = df_group[c]\n",
    "\n",
    "    y1 = df_group['dist']\n",
    "    y2 = df_group['is_fraud_rate']\n",
    "\n",
    "    fig, ax1  = plt.subplots(figsize=(5,2))\n",
    "    \n",
    "    plt.tick_params(axis='x', rotation = 45)\n",
    "\n",
    "    plt.title(c)\n",
    "    ax1.bar(x,y1, data = df_group, color='navajowhite', alpha=.6)\n",
    "    ax1.set_ylabel('% Distribution')\n",
    "\n",
    "    ax2 = ax1.twinx()\n",
    "    ax2 = sns.lineplot(x = x,y =  y2, data = df_group, marker='o',\\\n",
    "                    markerfacecolor='darkorange', markersize=6, color='lightslategray', \n",
    "                    linewidth=2)\n",
    "    ax2.set_ylim(bottom=0)\n",
    "    \n",
    "    for x,y in zip(x,y2):\n",
    "            label = \"{:.3f}\".format(y)\n",
    "            plt.annotate(label, (x,y), textcoords=\"offset points\", xytext=(0,5), ha='center', color='black') \n",
    "    plt.show()"
   ]
  },
  {
   "cell_type": "markdown",
   "metadata": {},
   "source": [
    "## Numerical variables\n",
    "Correlation matrix"
   ]
  },
  {
   "cell_type": "code",
   "execution_count": 359,
   "metadata": {},
   "outputs": [
    {
     "data": {
      "text/html": [
       "<div>\n",
       "<style scoped>\n",
       "    .dataframe tbody tr th:only-of-type {\n",
       "        vertical-align: middle;\n",
       "    }\n",
       "\n",
       "    .dataframe tbody tr th {\n",
       "        vertical-align: top;\n",
       "    }\n",
       "\n",
       "    .dataframe thead th {\n",
       "        text-align: right;\n",
       "    }\n",
       "</style>\n",
       "<table border=\"1\" class=\"dataframe\">\n",
       "  <thead>\n",
       "    <tr style=\"text-align: right;\">\n",
       "      <th></th>\n",
       "      <th>amt</th>\n",
       "      <th>city_pop</th>\n",
       "      <th>hour_of_trans</th>\n",
       "      <th>day_of_trans</th>\n",
       "      <th>age</th>\n",
       "      <th>is_fraud</th>\n",
       "    </tr>\n",
       "  </thead>\n",
       "  <tbody>\n",
       "    <tr>\n",
       "      <th>amt</th>\n",
       "      <td>1.000000</td>\n",
       "      <td>0.005818</td>\n",
       "      <td>-0.022811</td>\n",
       "      <td>-0.001001</td>\n",
       "      <td>-0.009769</td>\n",
       "      <td>0.219404</td>\n",
       "    </tr>\n",
       "    <tr>\n",
       "      <th>city_pop</th>\n",
       "      <td>0.005818</td>\n",
       "      <td>1.000000</td>\n",
       "      <td>0.020381</td>\n",
       "      <td>0.002439</td>\n",
       "      <td>-0.091379</td>\n",
       "      <td>0.002136</td>\n",
       "    </tr>\n",
       "    <tr>\n",
       "      <th>hour_of_trans</th>\n",
       "      <td>-0.022811</td>\n",
       "      <td>0.020381</td>\n",
       "      <td>1.000000</td>\n",
       "      <td>0.000219</td>\n",
       "      <td>-0.172862</td>\n",
       "      <td>0.013799</td>\n",
       "    </tr>\n",
       "    <tr>\n",
       "      <th>day_of_trans</th>\n",
       "      <td>-0.001001</td>\n",
       "      <td>0.002439</td>\n",
       "      <td>0.000219</td>\n",
       "      <td>1.000000</td>\n",
       "      <td>-0.011548</td>\n",
       "      <td>0.001739</td>\n",
       "    </tr>\n",
       "    <tr>\n",
       "      <th>age</th>\n",
       "      <td>-0.009769</td>\n",
       "      <td>-0.091379</td>\n",
       "      <td>-0.172862</td>\n",
       "      <td>-0.011548</td>\n",
       "      <td>1.000000</td>\n",
       "      <td>0.012343</td>\n",
       "    </tr>\n",
       "    <tr>\n",
       "      <th>is_fraud</th>\n",
       "      <td>0.219404</td>\n",
       "      <td>0.002136</td>\n",
       "      <td>0.013799</td>\n",
       "      <td>0.001739</td>\n",
       "      <td>0.012343</td>\n",
       "      <td>1.000000</td>\n",
       "    </tr>\n",
       "  </tbody>\n",
       "</table>\n",
       "</div>"
      ],
      "text/plain": [
       "                    amt  city_pop  hour_of_trans  day_of_trans       age  \\\n",
       "amt            1.000000  0.005818      -0.022811     -0.001001 -0.009769   \n",
       "city_pop       0.005818  1.000000       0.020381      0.002439 -0.091379   \n",
       "hour_of_trans -0.022811  0.020381       1.000000      0.000219 -0.172862   \n",
       "day_of_trans  -0.001001  0.002439       0.000219      1.000000 -0.011548   \n",
       "age           -0.009769 -0.091379      -0.172862     -0.011548  1.000000   \n",
       "is_fraud       0.219404  0.002136       0.013799      0.001739  0.012343   \n",
       "\n",
       "               is_fraud  \n",
       "amt            0.219404  \n",
       "city_pop       0.002136  \n",
       "hour_of_trans  0.013799  \n",
       "day_of_trans   0.001739  \n",
       "age            0.012343  \n",
       "is_fraud       1.000000  "
      ]
     },
     "execution_count": 359,
     "metadata": {},
     "output_type": "execute_result"
    }
   ],
   "source": [
    "df_corr = df[df.select_dtypes(include=np.number).columns].corr()\n",
    "df_corr"
   ]
  },
  {
   "cell_type": "code",
   "execution_count": 360,
   "metadata": {},
   "outputs": [],
   "source": [
    "from sklearn.feature_extraction import DictVectorizer\n",
    "from sklearn.metrics import roc_auc_score"
   ]
  },
  {
   "cell_type": "markdown",
   "metadata": {},
   "source": [
    "# Model Training\n",
    "\n",
    "- DecisionTreeClassifier\n",
    "- RandomForestClassifier\n",
    "- XGBoost"
   ]
  },
  {
   "cell_type": "markdown",
   "metadata": {},
   "source": [
    "preprocessing"
   ]
  },
  {
   "cell_type": "code",
   "execution_count": null,
   "metadata": {},
   "outputs": [],
   "source": [
    "train_dict = df_train.to_dict(orient='records')\n",
    "val_dict = df_val.to_dict(orient='records')\n",
    "test_dict = df_test.to_dict(orient='records')"
   ]
  },
  {
   "cell_type": "code",
   "execution_count": 408,
   "metadata": {},
   "outputs": [
    {
     "data": {
      "text/html": [
       "<style>#sk-container-id-13 {color: black;background-color: white;}#sk-container-id-13 pre{padding: 0;}#sk-container-id-13 div.sk-toggleable {background-color: white;}#sk-container-id-13 label.sk-toggleable__label {cursor: pointer;display: block;width: 100%;margin-bottom: 0;padding: 0.3em;box-sizing: border-box;text-align: center;}#sk-container-id-13 label.sk-toggleable__label-arrow:before {content: \"▸\";float: left;margin-right: 0.25em;color: #696969;}#sk-container-id-13 label.sk-toggleable__label-arrow:hover:before {color: black;}#sk-container-id-13 div.sk-estimator:hover label.sk-toggleable__label-arrow:before {color: black;}#sk-container-id-13 div.sk-toggleable__content {max-height: 0;max-width: 0;overflow: hidden;text-align: left;background-color: #f0f8ff;}#sk-container-id-13 div.sk-toggleable__content pre {margin: 0.2em;color: black;border-radius: 0.25em;background-color: #f0f8ff;}#sk-container-id-13 input.sk-toggleable__control:checked~div.sk-toggleable__content {max-height: 200px;max-width: 100%;overflow: auto;}#sk-container-id-13 input.sk-toggleable__control:checked~label.sk-toggleable__label-arrow:before {content: \"▾\";}#sk-container-id-13 div.sk-estimator input.sk-toggleable__control:checked~label.sk-toggleable__label {background-color: #d4ebff;}#sk-container-id-13 div.sk-label input.sk-toggleable__control:checked~label.sk-toggleable__label {background-color: #d4ebff;}#sk-container-id-13 input.sk-hidden--visually {border: 0;clip: rect(1px 1px 1px 1px);clip: rect(1px, 1px, 1px, 1px);height: 1px;margin: -1px;overflow: hidden;padding: 0;position: absolute;width: 1px;}#sk-container-id-13 div.sk-estimator {font-family: monospace;background-color: #f0f8ff;border: 1px dotted black;border-radius: 0.25em;box-sizing: border-box;margin-bottom: 0.5em;}#sk-container-id-13 div.sk-estimator:hover {background-color: #d4ebff;}#sk-container-id-13 div.sk-parallel-item::after {content: \"\";width: 100%;border-bottom: 1px solid gray;flex-grow: 1;}#sk-container-id-13 div.sk-label:hover label.sk-toggleable__label {background-color: #d4ebff;}#sk-container-id-13 div.sk-serial::before {content: \"\";position: absolute;border-left: 1px solid gray;box-sizing: border-box;top: 0;bottom: 0;left: 50%;z-index: 0;}#sk-container-id-13 div.sk-serial {display: flex;flex-direction: column;align-items: center;background-color: white;padding-right: 0.2em;padding-left: 0.2em;position: relative;}#sk-container-id-13 div.sk-item {position: relative;z-index: 1;}#sk-container-id-13 div.sk-parallel {display: flex;align-items: stretch;justify-content: center;background-color: white;position: relative;}#sk-container-id-13 div.sk-item::before, #sk-container-id-13 div.sk-parallel-item::before {content: \"\";position: absolute;border-left: 1px solid gray;box-sizing: border-box;top: 0;bottom: 0;left: 50%;z-index: -1;}#sk-container-id-13 div.sk-parallel-item {display: flex;flex-direction: column;z-index: 1;position: relative;background-color: white;}#sk-container-id-13 div.sk-parallel-item:first-child::after {align-self: flex-end;width: 50%;}#sk-container-id-13 div.sk-parallel-item:last-child::after {align-self: flex-start;width: 50%;}#sk-container-id-13 div.sk-parallel-item:only-child::after {width: 0;}#sk-container-id-13 div.sk-dashed-wrapped {border: 1px dashed gray;margin: 0 0.4em 0.5em 0.4em;box-sizing: border-box;padding-bottom: 0.4em;background-color: white;}#sk-container-id-13 div.sk-label label {font-family: monospace;font-weight: bold;display: inline-block;line-height: 1.2em;}#sk-container-id-13 div.sk-label-container {text-align: center;}#sk-container-id-13 div.sk-container {/* jupyter's `normalize.less` sets `[hidden] { display: none; }` but bootstrap.min.css set `[hidden] { display: none !important; }` so we also need the `!important` here to be able to override the default hidden behavior on the sphinx rendered scikit-learn.org. See: https://github.com/scikit-learn/scikit-learn/issues/21755 */display: inline-block !important;position: relative;}#sk-container-id-13 div.sk-text-repr-fallback {display: none;}</style><div id=\"sk-container-id-13\" class=\"sk-top-container\"><div class=\"sk-text-repr-fallback\"><pre>DictVectorizer(sparse=False)</pre><b>In a Jupyter environment, please rerun this cell to show the HTML representation or trust the notebook. <br />On GitHub, the HTML representation is unable to render, please try loading this page with nbviewer.org.</b></div><div class=\"sk-container\" hidden><div class=\"sk-item\"><div class=\"sk-estimator sk-toggleable\"><input class=\"sk-toggleable__control sk-hidden--visually\" id=\"sk-estimator-id-13\" type=\"checkbox\" checked><label for=\"sk-estimator-id-13\" class=\"sk-toggleable__label sk-toggleable__label-arrow\">DictVectorizer</label><div class=\"sk-toggleable__content\"><pre>DictVectorizer(sparse=False)</pre></div></div></div></div></div>"
      ],
      "text/plain": [
       "DictVectorizer(sparse=False)"
      ]
     },
     "execution_count": 408,
     "metadata": {},
     "output_type": "execute_result"
    }
   ],
   "source": [
    "dv = DictVectorizer(sparse=False)\n",
    "dv.fit(train_dict)"
   ]
  },
  {
   "cell_type": "code",
   "execution_count": 409,
   "metadata": {},
   "outputs": [],
   "source": [
    "X_train = dv.transform(train_dict)\n",
    "X_val = dv.transform(val_dict)\n",
    "X_test = dv.transform(test_dict)\n",
    "X = np.concatenate((X_train, X_val))"
   ]
  },
  {
   "cell_type": "code",
   "execution_count": 416,
   "metadata": {},
   "outputs": [
    {
     "data": {
      "text/plain": [
       "1037340"
      ]
     },
     "execution_count": 416,
     "metadata": {},
     "output_type": "execute_result"
    }
   ],
   "source": [
    "len(X)"
   ]
  },
  {
   "cell_type": "code",
   "execution_count": 407,
   "metadata": {},
   "outputs": [
    {
     "data": {
      "text/plain": [
       "array(['age', 'amt', 'category=entertainment', 'category=food_dining',\n",
       "       'category=gas_transport', 'category=grocery_net',\n",
       "       'category=grocery_pos', 'category=health_fitness', 'category=home',\n",
       "       'category=kids_pets', 'category=misc_net', 'category=misc_pos',\n",
       "       'category=personal_care', 'category=shopping_net',\n",
       "       'category=shopping_pos', 'category=travel', 'city_pop',\n",
       "       'day_of_trans', 'gender=f', 'gender=m', 'hour_of_trans'],\n",
       "      dtype=object)"
      ]
     },
     "execution_count": 407,
     "metadata": {},
     "output_type": "execute_result"
    }
   ],
   "source": [
    "dv.get_feature_names_out()"
   ]
  },
  {
   "cell_type": "code",
   "execution_count": 434,
   "metadata": {},
   "outputs": [
    {
     "data": {
      "text/plain": [
       "1037340"
      ]
     },
     "execution_count": 434,
     "metadata": {},
     "output_type": "execute_result"
    }
   ],
   "source": [
    "len(y)"
   ]
  },
  {
   "cell_type": "code",
   "execution_count": 433,
   "metadata": {},
   "outputs": [],
   "source": [
    "y = np.append(y_train,y_val,axis=0)"
   ]
  },
  {
   "cell_type": "markdown",
   "metadata": {},
   "source": [
    "Training"
   ]
  },
  {
   "cell_type": "code",
   "execution_count": 373,
   "metadata": {},
   "outputs": [],
   "source": [
    "from sklearn.tree import DecisionTreeClassifier\n",
    "from sklearn.linear_model import LogisticRegression\n",
    "from lightgbm import LGBMClassifier\n",
    "from sklearn.model_selection import KFold\n",
    "from sklearn.metrics import f1_score, precision_score, recall_score, precision_recall_curve"
   ]
  },
  {
   "cell_type": "code",
   "execution_count": 374,
   "metadata": {},
   "outputs": [],
   "source": [
    "dt_clf = DecisionTreeClassifier()\n",
    "log_clf = LogisticRegression()\n",
    "lgbm_clf = LGBMClassifier()"
   ]
  },
  {
   "cell_type": "code",
   "execution_count": 375,
   "metadata": {},
   "outputs": [],
   "source": [
    "kfold = KFold(n_splits=5, shuffle=True, random_state=1)\n",
    "scores = dict()\n",
    "for clf in [lgbm_clf, dt_clf, log_clf]:\n",
    "    clf_list = []\n",
    "    for train_idxs, val_idxs in kfold.split(X):\n",
    "        X_train, X_test = X[train_idxs], X[val_idxs]\n",
    "        y_train, y_test = y[train_idxs], y[val_idxs]\n",
    "\n",
    "        clf.fit(X_train, y_train)\n",
    "        y_pred = clf.predict(X_test)\n",
    "        clf_list.append(roc_auc_score(y_test, y_pred))\n",
    "    scores[clf.__class__.__name__] = clf_list"
   ]
  },
  {
   "cell_type": "code",
   "execution_count": 376,
   "metadata": {},
   "outputs": [
    {
     "name": "stdout",
     "output_type": "stream",
     "text": [
      "LGBMClassifier 0.856 +- 0.039\n",
      "DecisionTreeClassifier 0.913 +- 0.005\n",
      "LogisticRegression 0.500 +- 0.000\n"
     ]
    }
   ],
   "source": [
    "for key in scores.keys():\n",
    "    print(f'{key}' + ' ' + f'{np.mean(scores[key]):.3f} +- {np.std(scores[key]):.3f}')"
   ]
  },
  {
   "cell_type": "markdown",
   "metadata": {},
   "source": [
    "Hyperparameter Tuning"
   ]
  },
  {
   "cell_type": "code",
   "execution_count": null,
   "metadata": {},
   "outputs": [],
   "source": [
    "depths = [1, 2, 3, 4, 5, 6, 10, 15, 20, None]\n",
    "min_sample_leaf = [1, 5, 10, 15, 20, 500, 100, 200]\n",
    "\n",
    "scores = list()\n",
    "\n",
    "for depth in depths:\n",
    "    for sample in min_sample_leaf:\n",
    "        dt_clf = DecisionTreeClassifier(max_depth=depth, min_samples_leaf=sample, max_features='auto', random_state=42)\n",
    "        dt_clf.fit(X_train, y_train)\n",
    "        \n",
    "        y_pred = dt_clf.predict_proba(X_val)[:, 1]\n",
    "        auc = roc_auc_score(y_val, y_pred)\n",
    "        \n",
    "        scores.append((depth, sample, auc))"
   ]
  },
  {
   "cell_type": "code",
   "execution_count": 395,
   "metadata": {},
   "outputs": [
    {
     "data": {
      "text/html": [
       "<div>\n",
       "<style scoped>\n",
       "    .dataframe tbody tr th:only-of-type {\n",
       "        vertical-align: middle;\n",
       "    }\n",
       "\n",
       "    .dataframe tbody tr th {\n",
       "        vertical-align: top;\n",
       "    }\n",
       "\n",
       "    .dataframe thead tr th {\n",
       "        text-align: left;\n",
       "    }\n",
       "\n",
       "    .dataframe thead tr:last-of-type th {\n",
       "        text-align: right;\n",
       "    }\n",
       "</style>\n",
       "<table border=\"1\" class=\"dataframe\">\n",
       "  <thead>\n",
       "    <tr>\n",
       "      <th></th>\n",
       "      <th colspan=\"10\" halign=\"left\">auc</th>\n",
       "    </tr>\n",
       "    <tr>\n",
       "      <th>max_depth</th>\n",
       "      <th>NaN</th>\n",
       "      <th>1.0</th>\n",
       "      <th>2.0</th>\n",
       "      <th>3.0</th>\n",
       "      <th>4.0</th>\n",
       "      <th>5.0</th>\n",
       "      <th>6.0</th>\n",
       "      <th>10.0</th>\n",
       "      <th>15.0</th>\n",
       "      <th>20.0</th>\n",
       "    </tr>\n",
       "    <tr>\n",
       "      <th>min_samples_leaf</th>\n",
       "      <th></th>\n",
       "      <th></th>\n",
       "      <th></th>\n",
       "      <th></th>\n",
       "      <th></th>\n",
       "      <th></th>\n",
       "      <th></th>\n",
       "      <th></th>\n",
       "      <th></th>\n",
       "      <th></th>\n",
       "    </tr>\n",
       "  </thead>\n",
       "  <tbody>\n",
       "    <tr>\n",
       "      <th>1</th>\n",
       "      <td>0.971735</td>\n",
       "      <td>0.695632</td>\n",
       "      <td>0.710681</td>\n",
       "      <td>0.787031</td>\n",
       "      <td>0.795651</td>\n",
       "      <td>0.830793</td>\n",
       "      <td>0.907565</td>\n",
       "      <td>0.972845</td>\n",
       "      <td>0.981435</td>\n",
       "      <td>0.976126</td>\n",
       "    </tr>\n",
       "    <tr>\n",
       "      <th>5</th>\n",
       "      <td>0.980866</td>\n",
       "      <td>0.695632</td>\n",
       "      <td>0.710681</td>\n",
       "      <td>0.787031</td>\n",
       "      <td>0.795651</td>\n",
       "      <td>0.831081</td>\n",
       "      <td>0.902074</td>\n",
       "      <td>0.971210</td>\n",
       "      <td>0.985385</td>\n",
       "      <td>0.984046</td>\n",
       "    </tr>\n",
       "    <tr>\n",
       "      <th>10</th>\n",
       "      <td>0.985702</td>\n",
       "      <td>0.695632</td>\n",
       "      <td>0.710681</td>\n",
       "      <td>0.787031</td>\n",
       "      <td>0.795651</td>\n",
       "      <td>0.831081</td>\n",
       "      <td>0.902068</td>\n",
       "      <td>0.971318</td>\n",
       "      <td>0.983987</td>\n",
       "      <td>0.983628</td>\n",
       "    </tr>\n",
       "    <tr>\n",
       "      <th>15</th>\n",
       "      <td>0.984993</td>\n",
       "      <td>0.695632</td>\n",
       "      <td>0.710681</td>\n",
       "      <td>0.787031</td>\n",
       "      <td>0.795651</td>\n",
       "      <td>0.831081</td>\n",
       "      <td>0.902036</td>\n",
       "      <td>0.967979</td>\n",
       "      <td>0.988899</td>\n",
       "      <td>0.985134</td>\n",
       "    </tr>\n",
       "    <tr>\n",
       "      <th>20</th>\n",
       "      <td>0.986745</td>\n",
       "      <td>0.695632</td>\n",
       "      <td>0.710681</td>\n",
       "      <td>0.787031</td>\n",
       "      <td>0.795610</td>\n",
       "      <td>0.831050</td>\n",
       "      <td>0.908322</td>\n",
       "      <td>0.964311</td>\n",
       "      <td>0.980296</td>\n",
       "      <td>0.987217</td>\n",
       "    </tr>\n",
       "    <tr>\n",
       "      <th>100</th>\n",
       "      <td>0.989046</td>\n",
       "      <td>0.695632</td>\n",
       "      <td>0.710681</td>\n",
       "      <td>0.787031</td>\n",
       "      <td>0.795537</td>\n",
       "      <td>0.815563</td>\n",
       "      <td>0.904786</td>\n",
       "      <td>0.966779</td>\n",
       "      <td>0.985009</td>\n",
       "      <td>0.989452</td>\n",
       "    </tr>\n",
       "    <tr>\n",
       "      <th>200</th>\n",
       "      <td>0.984583</td>\n",
       "      <td>0.695632</td>\n",
       "      <td>0.710681</td>\n",
       "      <td>0.787031</td>\n",
       "      <td>0.795437</td>\n",
       "      <td>0.815469</td>\n",
       "      <td>0.904881</td>\n",
       "      <td>0.973726</td>\n",
       "      <td>0.984795</td>\n",
       "      <td>0.983669</td>\n",
       "    </tr>\n",
       "    <tr>\n",
       "      <th>500</th>\n",
       "      <td>0.979720</td>\n",
       "      <td>0.695632</td>\n",
       "      <td>0.710681</td>\n",
       "      <td>0.787031</td>\n",
       "      <td>0.795097</td>\n",
       "      <td>0.816201</td>\n",
       "      <td>0.899238</td>\n",
       "      <td>0.966445</td>\n",
       "      <td>0.983956</td>\n",
       "      <td>0.974416</td>\n",
       "    </tr>\n",
       "  </tbody>\n",
       "</table>\n",
       "</div>"
      ],
      "text/plain": [
       "                       auc                                                    \\\n",
       "max_depth              NaN      1.0       2.0       3.0       4.0       5.0    \n",
       "min_samples_leaf                                                               \n",
       "1                 0.971735  0.695632  0.710681  0.787031  0.795651  0.830793   \n",
       "5                 0.980866  0.695632  0.710681  0.787031  0.795651  0.831081   \n",
       "10                0.985702  0.695632  0.710681  0.787031  0.795651  0.831081   \n",
       "15                0.984993  0.695632  0.710681  0.787031  0.795651  0.831081   \n",
       "20                0.986745  0.695632  0.710681  0.787031  0.795610  0.831050   \n",
       "100               0.989046  0.695632  0.710681  0.787031  0.795537  0.815563   \n",
       "200               0.984583  0.695632  0.710681  0.787031  0.795437  0.815469   \n",
       "500               0.979720  0.695632  0.710681  0.787031  0.795097  0.816201   \n",
       "\n",
       "                                                          \n",
       "max_depth             6.0       10.0      15.0      20.0  \n",
       "min_samples_leaf                                          \n",
       "1                 0.907565  0.972845  0.981435  0.976126  \n",
       "5                 0.902074  0.971210  0.985385  0.984046  \n",
       "10                0.902068  0.971318  0.983987  0.983628  \n",
       "15                0.902036  0.967979  0.988899  0.985134  \n",
       "20                0.908322  0.964311  0.980296  0.987217  \n",
       "100               0.904786  0.966779  0.985009  0.989452  \n",
       "200               0.904881  0.973726  0.984795  0.983669  \n",
       "500               0.899238  0.966445  0.983956  0.974416  "
      ]
     },
     "execution_count": 395,
     "metadata": {},
     "output_type": "execute_result"
    }
   ],
   "source": [
    "df_score = pd.DataFrame(scores, columns=['max_depth', 'min_samples_leaf', 'auc'])\n",
    "dt_scores_pivot = df_score.pivot(index='min_samples_leaf', columns=['max_depth'], values=['auc'])\n",
    "dt_scores_pivot"
   ]
  },
  {
   "cell_type": "markdown",
   "metadata": {},
   "source": [
    "# On test data"
   ]
  },
  {
   "cell_type": "code",
   "execution_count": 520,
   "metadata": {},
   "outputs": [],
   "source": [
    "model = DecisionTreeClassifier(max_depth=15, min_samples_leaf=15, max_features='sqrt', random_state=42)"
   ]
  },
  {
   "cell_type": "code",
   "execution_count": 521,
   "metadata": {},
   "outputs": [
    {
     "data": {
      "text/html": [
       "<style>#sk-container-id-17 {color: black;background-color: white;}#sk-container-id-17 pre{padding: 0;}#sk-container-id-17 div.sk-toggleable {background-color: white;}#sk-container-id-17 label.sk-toggleable__label {cursor: pointer;display: block;width: 100%;margin-bottom: 0;padding: 0.3em;box-sizing: border-box;text-align: center;}#sk-container-id-17 label.sk-toggleable__label-arrow:before {content: \"▸\";float: left;margin-right: 0.25em;color: #696969;}#sk-container-id-17 label.sk-toggleable__label-arrow:hover:before {color: black;}#sk-container-id-17 div.sk-estimator:hover label.sk-toggleable__label-arrow:before {color: black;}#sk-container-id-17 div.sk-toggleable__content {max-height: 0;max-width: 0;overflow: hidden;text-align: left;background-color: #f0f8ff;}#sk-container-id-17 div.sk-toggleable__content pre {margin: 0.2em;color: black;border-radius: 0.25em;background-color: #f0f8ff;}#sk-container-id-17 input.sk-toggleable__control:checked~div.sk-toggleable__content {max-height: 200px;max-width: 100%;overflow: auto;}#sk-container-id-17 input.sk-toggleable__control:checked~label.sk-toggleable__label-arrow:before {content: \"▾\";}#sk-container-id-17 div.sk-estimator input.sk-toggleable__control:checked~label.sk-toggleable__label {background-color: #d4ebff;}#sk-container-id-17 div.sk-label input.sk-toggleable__control:checked~label.sk-toggleable__label {background-color: #d4ebff;}#sk-container-id-17 input.sk-hidden--visually {border: 0;clip: rect(1px 1px 1px 1px);clip: rect(1px, 1px, 1px, 1px);height: 1px;margin: -1px;overflow: hidden;padding: 0;position: absolute;width: 1px;}#sk-container-id-17 div.sk-estimator {font-family: monospace;background-color: #f0f8ff;border: 1px dotted black;border-radius: 0.25em;box-sizing: border-box;margin-bottom: 0.5em;}#sk-container-id-17 div.sk-estimator:hover {background-color: #d4ebff;}#sk-container-id-17 div.sk-parallel-item::after {content: \"\";width: 100%;border-bottom: 1px solid gray;flex-grow: 1;}#sk-container-id-17 div.sk-label:hover label.sk-toggleable__label {background-color: #d4ebff;}#sk-container-id-17 div.sk-serial::before {content: \"\";position: absolute;border-left: 1px solid gray;box-sizing: border-box;top: 0;bottom: 0;left: 50%;z-index: 0;}#sk-container-id-17 div.sk-serial {display: flex;flex-direction: column;align-items: center;background-color: white;padding-right: 0.2em;padding-left: 0.2em;position: relative;}#sk-container-id-17 div.sk-item {position: relative;z-index: 1;}#sk-container-id-17 div.sk-parallel {display: flex;align-items: stretch;justify-content: center;background-color: white;position: relative;}#sk-container-id-17 div.sk-item::before, #sk-container-id-17 div.sk-parallel-item::before {content: \"\";position: absolute;border-left: 1px solid gray;box-sizing: border-box;top: 0;bottom: 0;left: 50%;z-index: -1;}#sk-container-id-17 div.sk-parallel-item {display: flex;flex-direction: column;z-index: 1;position: relative;background-color: white;}#sk-container-id-17 div.sk-parallel-item:first-child::after {align-self: flex-end;width: 50%;}#sk-container-id-17 div.sk-parallel-item:last-child::after {align-self: flex-start;width: 50%;}#sk-container-id-17 div.sk-parallel-item:only-child::after {width: 0;}#sk-container-id-17 div.sk-dashed-wrapped {border: 1px dashed gray;margin: 0 0.4em 0.5em 0.4em;box-sizing: border-box;padding-bottom: 0.4em;background-color: white;}#sk-container-id-17 div.sk-label label {font-family: monospace;font-weight: bold;display: inline-block;line-height: 1.2em;}#sk-container-id-17 div.sk-label-container {text-align: center;}#sk-container-id-17 div.sk-container {/* jupyter's `normalize.less` sets `[hidden] { display: none; }` but bootstrap.min.css set `[hidden] { display: none !important; }` so we also need the `!important` here to be able to override the default hidden behavior on the sphinx rendered scikit-learn.org. See: https://github.com/scikit-learn/scikit-learn/issues/21755 */display: inline-block !important;position: relative;}#sk-container-id-17 div.sk-text-repr-fallback {display: none;}</style><div id=\"sk-container-id-17\" class=\"sk-top-container\"><div class=\"sk-text-repr-fallback\"><pre>DecisionTreeClassifier(max_depth=15, max_features=&#x27;sqrt&#x27;, min_samples_leaf=15,\n",
       "                       random_state=42)</pre><b>In a Jupyter environment, please rerun this cell to show the HTML representation or trust the notebook. <br />On GitHub, the HTML representation is unable to render, please try loading this page with nbviewer.org.</b></div><div class=\"sk-container\" hidden><div class=\"sk-item\"><div class=\"sk-estimator sk-toggleable\"><input class=\"sk-toggleable__control sk-hidden--visually\" id=\"sk-estimator-id-17\" type=\"checkbox\" checked><label for=\"sk-estimator-id-17\" class=\"sk-toggleable__label sk-toggleable__label-arrow\">DecisionTreeClassifier</label><div class=\"sk-toggleable__content\"><pre>DecisionTreeClassifier(max_depth=15, max_features=&#x27;sqrt&#x27;, min_samples_leaf=15,\n",
       "                       random_state=42)</pre></div></div></div></div></div>"
      ],
      "text/plain": [
       "DecisionTreeClassifier(max_depth=15, max_features='sqrt', min_samples_leaf=15,\n",
       "                       random_state=42)"
      ]
     },
     "execution_count": 521,
     "metadata": {},
     "output_type": "execute_result"
    }
   ],
   "source": [
    "model.fit(X,y)"
   ]
  },
  {
   "cell_type": "code",
   "execution_count": 522,
   "metadata": {},
   "outputs": [
    {
     "data": {
      "text/plain": [
       "0.9575099249832194"
      ]
     },
     "execution_count": 522,
     "metadata": {},
     "output_type": "execute_result"
    }
   ],
   "source": [
    "y_pred = model.predict_proba(X_test)[:, 1]\n",
    "auc = roc_auc_score(y_test, y_pred)\n",
    "auc"
   ]
  },
  {
   "cell_type": "markdown",
   "metadata": {},
   "source": [
    "# Test Prediction"
   ]
  },
  {
   "cell_type": "code",
   "execution_count": 483,
   "metadata": {},
   "outputs": [],
   "source": [
    "import json"
   ]
  },
  {
   "cell_type": "code",
   "execution_count": 526,
   "metadata": {},
   "outputs": [
    {
     "data": {
      "text/html": [
       "<div>\n",
       "<style scoped>\n",
       "    .dataframe tbody tr th:only-of-type {\n",
       "        vertical-align: middle;\n",
       "    }\n",
       "\n",
       "    .dataframe tbody tr th {\n",
       "        vertical-align: top;\n",
       "    }\n",
       "\n",
       "    .dataframe thead th {\n",
       "        text-align: right;\n",
       "    }\n",
       "</style>\n",
       "<table border=\"1\" class=\"dataframe\">\n",
       "  <thead>\n",
       "    <tr style=\"text-align: right;\">\n",
       "      <th></th>\n",
       "      <th>category</th>\n",
       "      <th>amt</th>\n",
       "      <th>gender</th>\n",
       "      <th>city_pop</th>\n",
       "      <th>hour_of_trans</th>\n",
       "      <th>day_of_trans</th>\n",
       "      <th>age</th>\n",
       "      <th>is_fraud</th>\n",
       "    </tr>\n",
       "  </thead>\n",
       "  <tbody>\n",
       "    <tr>\n",
       "      <th>0</th>\n",
       "      <td>grocery_net</td>\n",
       "      <td>20.00</td>\n",
       "      <td>f</td>\n",
       "      <td>1190</td>\n",
       "      <td>8</td>\n",
       "      <td>0</td>\n",
       "      <td>72</td>\n",
       "      <td>0</td>\n",
       "    </tr>\n",
       "    <tr>\n",
       "      <th>1</th>\n",
       "      <td>home</td>\n",
       "      <td>284.88</td>\n",
       "      <td>f</td>\n",
       "      <td>761</td>\n",
       "      <td>19</td>\n",
       "      <td>4</td>\n",
       "      <td>77</td>\n",
       "      <td>0</td>\n",
       "    </tr>\n",
       "    <tr>\n",
       "      <th>2</th>\n",
       "      <td>shopping_net</td>\n",
       "      <td>5.07</td>\n",
       "      <td>f</td>\n",
       "      <td>79613</td>\n",
       "      <td>21</td>\n",
       "      <td>6</td>\n",
       "      <td>42</td>\n",
       "      <td>0</td>\n",
       "    </tr>\n",
       "    <tr>\n",
       "      <th>3</th>\n",
       "      <td>food_dining</td>\n",
       "      <td>45.38</td>\n",
       "      <td>f</td>\n",
       "      <td>165556</td>\n",
       "      <td>17</td>\n",
       "      <td>4</td>\n",
       "      <td>23</td>\n",
       "      <td>0</td>\n",
       "    </tr>\n",
       "    <tr>\n",
       "      <th>4</th>\n",
       "      <td>health_fitness</td>\n",
       "      <td>27.52</td>\n",
       "      <td>m</td>\n",
       "      <td>67858</td>\n",
       "      <td>23</td>\n",
       "      <td>5</td>\n",
       "      <td>25</td>\n",
       "      <td>0</td>\n",
       "    </tr>\n",
       "    <tr>\n",
       "      <th>...</th>\n",
       "      <td>...</td>\n",
       "      <td>...</td>\n",
       "      <td>...</td>\n",
       "      <td>...</td>\n",
       "      <td>...</td>\n",
       "      <td>...</td>\n",
       "      <td>...</td>\n",
       "      <td>...</td>\n",
       "    </tr>\n",
       "    <tr>\n",
       "      <th>259330</th>\n",
       "      <td>kids_pets</td>\n",
       "      <td>49.92</td>\n",
       "      <td>m</td>\n",
       "      <td>168</td>\n",
       "      <td>22</td>\n",
       "      <td>1</td>\n",
       "      <td>42</td>\n",
       "      <td>0</td>\n",
       "    </tr>\n",
       "    <tr>\n",
       "      <th>259331</th>\n",
       "      <td>misc_pos</td>\n",
       "      <td>141.44</td>\n",
       "      <td>f</td>\n",
       "      <td>107941</td>\n",
       "      <td>8</td>\n",
       "      <td>6</td>\n",
       "      <td>29</td>\n",
       "      <td>0</td>\n",
       "    </tr>\n",
       "    <tr>\n",
       "      <th>259332</th>\n",
       "      <td>shopping_net</td>\n",
       "      <td>356.74</td>\n",
       "      <td>f</td>\n",
       "      <td>1186</td>\n",
       "      <td>20</td>\n",
       "      <td>4</td>\n",
       "      <td>34</td>\n",
       "      <td>0</td>\n",
       "    </tr>\n",
       "    <tr>\n",
       "      <th>259333</th>\n",
       "      <td>kids_pets</td>\n",
       "      <td>12.22</td>\n",
       "      <td>f</td>\n",
       "      <td>1051</td>\n",
       "      <td>12</td>\n",
       "      <td>0</td>\n",
       "      <td>44</td>\n",
       "      <td>0</td>\n",
       "    </tr>\n",
       "    <tr>\n",
       "      <th>259334</th>\n",
       "      <td>health_fitness</td>\n",
       "      <td>140.54</td>\n",
       "      <td>f</td>\n",
       "      <td>21134</td>\n",
       "      <td>18</td>\n",
       "      <td>6</td>\n",
       "      <td>36</td>\n",
       "      <td>0</td>\n",
       "    </tr>\n",
       "  </tbody>\n",
       "</table>\n",
       "<p>257905 rows × 8 columns</p>\n",
       "</div>"
      ],
      "text/plain": [
       "              category     amt gender  city_pop  hour_of_trans  day_of_trans  \\\n",
       "0          grocery_net   20.00      f      1190              8             0   \n",
       "1                 home  284.88      f       761             19             4   \n",
       "2         shopping_net    5.07      f     79613             21             6   \n",
       "3          food_dining   45.38      f    165556             17             4   \n",
       "4       health_fitness   27.52      m     67858             23             5   \n",
       "...                ...     ...    ...       ...            ...           ...   \n",
       "259330       kids_pets   49.92      m       168             22             1   \n",
       "259331        misc_pos  141.44      f    107941              8             6   \n",
       "259332    shopping_net  356.74      f      1186             20             4   \n",
       "259333       kids_pets   12.22      f      1051             12             0   \n",
       "259334  health_fitness  140.54      f     21134             18             6   \n",
       "\n",
       "        age  is_fraud  \n",
       "0        72         0  \n",
       "1        77         0  \n",
       "2        42         0  \n",
       "3        23         0  \n",
       "4        25         0  \n",
       "...     ...       ...  \n",
       "259330   42         0  \n",
       "259331   29         0  \n",
       "259332   34         0  \n",
       "259333   44         0  \n",
       "259334   36         0  \n",
       "\n",
       "[257905 rows x 8 columns]"
      ]
     },
     "execution_count": 526,
     "metadata": {},
     "output_type": "execute_result"
    }
   ],
   "source": [
    "df_test[df_test['is_fraud'] == 0]"
   ]
  },
  {
   "cell_type": "code",
   "execution_count": 527,
   "metadata": {},
   "outputs": [
    {
     "name": "stdout",
     "output_type": "stream",
     "text": [
      "{\n",
      "  \"category\": \"misc_pos\",\n",
      "  \"amt\": 141.44,\n",
      "  \"gender\": \"f\",\n",
      "  \"city_pop\": 107941,\n",
      "  \"hour_of_trans\": 8,\n",
      "  \"day_of_trans\": 6,\n",
      "  \"age\": 29,\n",
      "  \"is_fraud\": 0\n",
      "}\n"
     ]
    }
   ],
   "source": [
    "sample_transaction = df_test.iloc[259331].to_dict()\n",
    "print(json.dumps(sample_transaction, indent=2))"
   ]
  },
  {
   "cell_type": "code",
   "execution_count": 518,
   "metadata": {},
   "outputs": [
    {
     "data": {
      "text/plain": [
       "array([[ 50. , 876.9,   0. ,   0. ,   0. ,   0. ,   0. ,   0. ,   0. ,\n",
       "          0. ,   0. ,   0. ,   0. ,   1. ,   0. ,   0. , 805. ,   1. ,\n",
       "          0. ,   1. ,  22. ]])"
      ]
     },
     "execution_count": 518,
     "metadata": {},
     "output_type": "execute_result"
    }
   ],
   "source": [
    "sample_dict = dv.transform(sample_transaction)\n",
    "sample_dict"
   ]
  },
  {
   "cell_type": "code",
   "execution_count": 525,
   "metadata": {},
   "outputs": [
    {
     "data": {
      "text/plain": [
       "0.7777777777777778"
      ]
     },
     "execution_count": 525,
     "metadata": {},
     "output_type": "execute_result"
    }
   ],
   "source": [
    "model.predict_proba(sample_dict)[0,1]"
   ]
  }
 ],
 "metadata": {
  "kernelspec": {
   "display_name": "midterm-KANOuyZg",
   "language": "python",
   "name": "python3"
  },
  "language_info": {
   "codemirror_mode": {
    "name": "ipython",
    "version": 3
   },
   "file_extension": ".py",
   "mimetype": "text/x-python",
   "name": "python",
   "nbconvert_exporter": "python",
   "pygments_lexer": "ipython3",
   "version": "3.10.4 (tags/v3.10.4:9d38120, Mar 23 2022, 23:13:41) [MSC v.1929 64 bit (AMD64)]"
  },
  "orig_nbformat": 4,
  "vscode": {
   "interpreter": {
    "hash": "a32b3afc5fdac9589e1733f19deab7700ec7179d5fba832db3998f560b82a246"
   }
  }
 },
 "nbformat": 4,
 "nbformat_minor": 2
}
